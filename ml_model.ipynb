{
 "cells": [
  {
   "cell_type": "code",
   "execution_count": null,
   "metadata": {},
   "outputs": [],
   "source": [
    "import numpy as np\n",
    "import pandas as pd\n",
    "from sklearn.linear_model import LinearRegression\n",
    "from sklearn.model_selection import train_test_split\n",
    "from sklearn.metrics import mean_squared_error, r2_score\n",
    "import joblib"
   ]
  },
  {
   "cell_type": "code",
   "execution_count": null,
   "metadata": {},
   "outputs": [],
   "source": [
    "data = pd.read_csv('crypto_prices.csv')\n",
    "data.head()"
   ]
  },
  {
   "cell_type": "code",
   "execution_count": null,
   "metadata": {},
   "outputs": [],
   "source": [
    "n = 10  \n",
    "\n",
    "# Skapa features och labels för regression för både Bitcoin och Ethereum\n",
    "X_bitcoin = []\n",
    "y_bitcoin = []\n",
    "X_ethereum = []\n",
    "y_ethereum = []\n",
    "\n",
    "for i in range(len(data) - n):\n",
    "    # Bitcoin features och labels\n",
    "    X_bitcoin.append(data['bitcoin'].values[i:i + n])\n",
    "    y_bitcoin.append(data['bitcoin'].values[i + n])\n",
    "    \n",
    "    # Ethereum features och labels\n",
    "    X_ethereum.append(data['ethereum'].values[i:i + n])\n",
    "    y_ethereum.append(data['ethereum'].values[i + n])\n",
    "\n",
    "X_bitcoin = np.array(X_bitcoin)\n",
    "y_bitcoin = np.array(y_bitcoin)\n",
    "X_ethereum = np.array(X_ethereum)\n",
    "y_ethereum = np.array(y_ethereum)\n",
    "\n",
    "# Dela upp data i tränings- och testset (80% träning, 20% test)\n",
    "X_train_bitcoin, X_test_bitcoin, y_train_bitcoin, y_test_bitcoin = train_test_split(X_bitcoin, y_bitcoin, test_size=0.2, random_state=42)\n",
    "X_train_ethereum, X_test_ethereum, y_train_ethereum, y_test_ethereum = train_test_split(X_ethereum, y_ethereum, test_size=0.2, random_state=42)\n",
    "\n",
    "# Skapa och träna modeller för både Bitcoin och Ethereum\n",
    "model_bitcoin = LinearRegression()\n",
    "model_bitcoin.fit(X_train_bitcoin, y_train_bitcoin)\n",
    "\n",
    "model_ethereum = LinearRegression()\n",
    "model_ethereum.fit(X_train_ethereum, y_train_ethereum)\n",
    "\n",
    "# Gör förutsägelser på testdatan för båda modellerna\n",
    "y_pred_bitcoin = model_bitcoin.predict(X_test_bitcoin)\n",
    "y_pred_ethereum = model_ethereum.predict(X_test_ethereum)\n",
    "\n",
    "# Utvärdera prestandan för båda modellerna\n",
    "mse_bitcoin = mean_squared_error(y_test_bitcoin, y_pred_bitcoin)\n",
    "r2_bitcoin = r2_score(y_test_bitcoin, y_pred_bitcoin)\n",
    "\n",
    "mse_ethereum = mean_squared_error(y_test_ethereum, y_pred_ethereum)\n",
    "r2_ethereum = r2_score(y_test_ethereum, y_pred_ethereum)\n",
    "\n",
    "print(f'Bitcoin - Mean Squared Error: {mse_bitcoin}, R² Score: {r2_bitcoin}')\n",
    "print(f'Ethereum - Mean Squared Error: {mse_ethereum}, R² Score: {r2_ethereum}')"
   ]
  },
  {
   "cell_type": "code",
   "execution_count": null,
   "metadata": {},
   "outputs": [],
   "source": [
    "# Spara modellerna för användning senare\n",
    "joblib.dump(model_bitcoin, 'bitcoin_price_predictor.pkl')\n",
    "joblib.dump(model_ethereum, 'ethereum_price_predictor.pkl')\n",
    "\n",
    "print(\"Modellerna har sparats som 'bitcoin_price_predictor.pkl' och 'ethereum_price_predictor.pkl'.\")"
   ]
  }
 ],
 "metadata": {
  "kernelspec": {
   "display_name": "env",
   "language": "python",
   "name": "python3"
  },
  "language_info": {
   "codemirror_mode": {
    "name": "ipython",
    "version": 3
   },
   "file_extension": ".py",
   "mimetype": "text/x-python",
   "name": "python",
   "nbconvert_exporter": "python",
   "pygments_lexer": "ipython3",
   "version": "3.12.7"
  }
 },
 "nbformat": 4,
 "nbformat_minor": 2
}
